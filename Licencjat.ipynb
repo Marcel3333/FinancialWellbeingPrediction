{
 "cells": [
  {
   "cell_type": "code",
   "execution_count": 1,
   "id": "26a05204-d2f7-4b03-b9f2-1dd66e925d37",
   "metadata": {},
   "outputs": [],
   "source": [
    "import pandas as pd\n",
    "import numpy as np\n",
    "\n",
    "from xgboost import XGBRegressor\n",
    "\n",
    "from sklearn.model_selection import train_test_split\n",
    "from sklearn import metrics\n",
    "from sklearn.metrics import mean_squared_error"
   ]
  },
  {
   "cell_type": "code",
   "execution_count": 2,
   "id": "29d425af-5032-4aed-9a68-68752f44ced2",
   "metadata": {},
   "outputs": [
    {
     "name": "stderr",
     "output_type": "stream",
     "text": [
      "C:\\Users\\Ester\\AppData\\Local\\Temp\\ipykernel_388\\452193696.py:1: DtypeWarning: Columns (21,95,107) have mixed types. Specify dtype option on import or set low_memory=False.\n",
      "  data = pd.read_csv(\"../Licencjat/licencjat.csv\", delimiter=\";\")\n"
     ]
    }
   ],
   "source": [
    "data = pd.read_csv(\"../Licencjat/licencjat.csv\", delimiter=\";\")  "
   ]
  },
  {
   "cell_type": "code",
   "execution_count": 3,
   "id": "c4fe4786-59e3-4fb8-be74-b31563c43f2f",
   "metadata": {},
   "outputs": [],
   "source": [
    "data = data[[\n",
    "    \"country\", \"age\", \"isced1997_r\", \"mar_stat\", \"hhsize\", \"partnerinhh\", \"ch001_\", \"sphus\",\n",
    "    \"chronic_mod\", \"eurod\",\n",
    "    \"co007_\", \"thinc_m\", \"income_pct_w6\", \"wave\"\n",
    "]]"
   ]
  },
  {
   "cell_type": "code",
   "execution_count": 4,
   "id": "072843b0-7544-49f4-a91a-b079f31c6a10",
   "metadata": {},
   "outputs": [
    {
     "data": {
      "text/html": [
       "<div>\n",
       "<style scoped>\n",
       "    .dataframe tbody tr th:only-of-type {\n",
       "        vertical-align: middle;\n",
       "    }\n",
       "\n",
       "    .dataframe tbody tr th {\n",
       "        vertical-align: top;\n",
       "    }\n",
       "\n",
       "    .dataframe thead th {\n",
       "        text-align: right;\n",
       "    }\n",
       "</style>\n",
       "<table border=\"1\" class=\"dataframe\">\n",
       "  <thead>\n",
       "    <tr style=\"text-align: right;\">\n",
       "      <th></th>\n",
       "      <th>country</th>\n",
       "      <th>age</th>\n",
       "      <th>isced1997_r</th>\n",
       "      <th>mar_stat</th>\n",
       "      <th>hhsize</th>\n",
       "      <th>partnerinhh</th>\n",
       "      <th>ch001_</th>\n",
       "      <th>sphus</th>\n",
       "      <th>chronic_mod</th>\n",
       "      <th>eurod</th>\n",
       "      <th>co007_</th>\n",
       "      <th>thinc_m</th>\n",
       "      <th>income_pct_w8</th>\n",
       "      <th>wave</th>\n",
       "    </tr>\n",
       "  </thead>\n",
       "  <tbody>\n",
       "    <tr>\n",
       "      <th>0</th>\n",
       "      <td>11</td>\n",
       "      <td>51,9000015258789</td>\n",
       "      <td>3</td>\n",
       "      <td>1</td>\n",
       "      <td>2</td>\n",
       "      <td>1</td>\n",
       "      <td>4</td>\n",
       "      <td>1</td>\n",
       "      <td>0</td>\n",
       "      <td>0</td>\n",
       "      <td>2</td>\n",
       "      <td>28721,849609375</td>\n",
       "      <td>-13</td>\n",
       "      <td>1</td>\n",
       "    </tr>\n",
       "    <tr>\n",
       "      <th>1</th>\n",
       "      <td>11</td>\n",
       "      <td>54,7000007629395</td>\n",
       "      <td>3</td>\n",
       "      <td>1</td>\n",
       "      <td>2</td>\n",
       "      <td>1</td>\n",
       "      <td>4</td>\n",
       "      <td>5</td>\n",
       "      <td>1</td>\n",
       "      <td>9</td>\n",
       "      <td>3</td>\n",
       "      <td>26432,822265625</td>\n",
       "      <td>-13</td>\n",
       "      <td>2</td>\n",
       "    </tr>\n",
       "    <tr>\n",
       "      <th>2</th>\n",
       "      <td>11</td>\n",
       "      <td>48,9000015258789</td>\n",
       "      <td>3</td>\n",
       "      <td>1</td>\n",
       "      <td>2</td>\n",
       "      <td>1</td>\n",
       "      <td>4</td>\n",
       "      <td>1</td>\n",
       "      <td>0</td>\n",
       "      <td>1</td>\n",
       "      <td>2</td>\n",
       "      <td>28721,849609375</td>\n",
       "      <td>-13</td>\n",
       "      <td>1</td>\n",
       "    </tr>\n",
       "    <tr>\n",
       "      <th>3</th>\n",
       "      <td>11</td>\n",
       "      <td>51,7000007629395</td>\n",
       "      <td>3</td>\n",
       "      <td>1</td>\n",
       "      <td>2</td>\n",
       "      <td>1</td>\n",
       "      <td>4</td>\n",
       "      <td>2</td>\n",
       "      <td>1</td>\n",
       "      <td>3</td>\n",
       "      <td>3</td>\n",
       "      <td>26432,822265625</td>\n",
       "      <td>-13</td>\n",
       "      <td>2</td>\n",
       "    </tr>\n",
       "    <tr>\n",
       "      <th>4</th>\n",
       "      <td>11</td>\n",
       "      <td>59,7000007629395</td>\n",
       "      <td>5</td>\n",
       "      <td>6</td>\n",
       "      <td>1</td>\n",
       "      <td>3</td>\n",
       "      <td>2</td>\n",
       "      <td>3</td>\n",
       "      <td>1</td>\n",
       "      <td>1</td>\n",
       "      <td>4</td>\n",
       "      <td>9167,8212890625</td>\n",
       "      <td>-13</td>\n",
       "      <td>4</td>\n",
       "    </tr>\n",
       "  </tbody>\n",
       "</table>\n",
       "</div>"
      ],
      "text/plain": [
       "   country               age  isced1997_r  mar_stat  hhsize  partnerinhh  \\\n",
       "0       11  51,9000015258789            3         1       2            1   \n",
       "1       11  54,7000007629395            3         1       2            1   \n",
       "2       11  48,9000015258789            3         1       2            1   \n",
       "3       11  51,7000007629395            3         1       2            1   \n",
       "4       11  59,7000007629395            5         6       1            3   \n",
       "\n",
       "   ch001_  sphus  chronic_mod  eurod  co007_          thinc_m  income_pct_w8  \\\n",
       "0       4      1            0      0       2  28721,849609375            -13   \n",
       "1       4      5            1      9       3  26432,822265625            -13   \n",
       "2       4      1            0      1       2  28721,849609375            -13   \n",
       "3       4      2            1      3       3  26432,822265625            -13   \n",
       "4       2      3            1      1       4  9167,8212890625            -13   \n",
       "\n",
       "   wave  \n",
       "0     1  \n",
       "1     2  \n",
       "2     1  \n",
       "3     2  \n",
       "4     4  "
      ]
     },
     "execution_count": 4,
     "metadata": {},
     "output_type": "execute_result"
    }
   ],
   "source": [
    "data.head()"
   ]
  },
  {
   "cell_type": "markdown",
   "id": "c774aeea-7d3c-4ade-aee0-214990784126",
   "metadata": {},
   "source": [
    "### 1. Czyszczenie danych"
   ]
  },
  {
   "cell_type": "code",
   "execution_count": 6,
   "id": "4a71a27b-bc7e-463f-a021-69581dd31d86",
   "metadata": {},
   "outputs": [],
   "source": [
    "data = data[data['wave'] == 8]"
   ]
  },
  {
   "cell_type": "code",
   "execution_count": 7,
   "id": "7b08adb7-e6a4-470e-a621-b4f28cf9a88b",
   "metadata": {},
   "outputs": [],
   "source": [
    "data = data[data['country'].isin([15, 29])]"
   ]
  },
  {
   "cell_type": "code",
   "execution_count": 8,
   "id": "d63c5c50-a127-459a-9051-9c31ac1db1ee",
   "metadata": {},
   "outputs": [],
   "source": [
    "data[\"thinc_m\"] = data[\"thinc_m\"].str.replace(\",\", \".\")\n",
    "data[\"age\"] = data[\"age\"].str.replace(\",\", \".\")\n",
    "data[\"age\"] = data[\"age\"].astype(float)\n",
    "data[\"thinc_m\"] = data[\"thinc_m\"].astype(float)"
   ]
  },
  {
   "cell_type": "code",
   "execution_count": 9,
   "id": "10544b22-64cb-4964-aabe-a6690968fc7e",
   "metadata": {},
   "outputs": [
    {
     "name": "stdout",
     "output_type": "stream",
     "text": [
      "<class 'pandas.core.frame.DataFrame'>\n",
      "Index: 4985 entries, 207816 to 425272\n",
      "Data columns (total 14 columns):\n",
      " #   Column         Non-Null Count  Dtype  \n",
      "---  ------         --------------  -----  \n",
      " 0   country        4985 non-null   int64  \n",
      " 1   age            4985 non-null   float64\n",
      " 2   isced1997_r    4985 non-null   int64  \n",
      " 3   mar_stat       4985 non-null   int64  \n",
      " 4   hhsize         4985 non-null   int64  \n",
      " 5   partnerinhh    4985 non-null   int64  \n",
      " 6   ch001_         4985 non-null   int64  \n",
      " 7   sphus          4985 non-null   int64  \n",
      " 8   chronic_mod    4985 non-null   int64  \n",
      " 9   eurod          4985 non-null   int64  \n",
      " 10  co007_         4985 non-null   int64  \n",
      " 11  thinc_m        4985 non-null   float64\n",
      " 12  income_pct_w8  4985 non-null   int64  \n",
      " 13  wave           4985 non-null   int64  \n",
      "dtypes: float64(2), int64(12)\n",
      "memory usage: 584.2 KB\n"
     ]
    }
   ],
   "source": [
    "data.info()"
   ]
  },
  {
   "cell_type": "code",
   "execution_count": 10,
   "id": "8322691b-1501-4c63-952f-648f596c9dea",
   "metadata": {},
   "outputs": [],
   "source": [
    "data = data.drop(columns=['country'])"
   ]
  },
  {
   "cell_type": "code",
   "execution_count": 11,
   "id": "72449e65-8300-4b80-8acb-1339dc478d4e",
   "metadata": {},
   "outputs": [],
   "source": [
    "data[data < 0] = np.nan"
   ]
  },
  {
   "cell_type": "code",
   "execution_count": 12,
   "id": "dfa67994-f9a1-4a1f-853c-af09f01a930d",
   "metadata": {},
   "outputs": [],
   "source": [
    "data = data.dropna()"
   ]
  },
  {
   "cell_type": "code",
   "execution_count": 14,
   "id": "e02d48ed-fd7a-4ac2-8061-fc5d8fb6a97d",
   "metadata": {},
   "outputs": [
    {
     "data": {
      "text/plain": [
       "(4539, 13)"
      ]
     },
     "execution_count": 14,
     "metadata": {},
     "output_type": "execute_result"
    }
   ],
   "source": [
    "data.shape"
   ]
  },
  {
   "cell_type": "markdown",
   "id": "ca58e9a0-1294-494e-b207-0a7dc3d5b1bf",
   "metadata": {},
   "source": [
    "### 2. Feature Engineering"
   ]
  },
  {
   "cell_type": "code",
   "execution_count": 16,
   "id": "389274c5-a8e2-4edb-940c-3cd1b8338298",
   "metadata": {},
   "outputs": [
    {
     "data": {
      "text/plain": [
       "Index(['age', 'isced1997_r', 'mar_stat', 'hhsize', 'partnerinhh', 'ch001_',\n",
       "       'sphus', 'chronic_mod', 'eurod', 'co007_', 'thinc_m', 'income_pct_w8',\n",
       "       'wave'],\n",
       "      dtype='object')"
      ]
     },
     "execution_count": 16,
     "metadata": {},
     "output_type": "execute_result"
    }
   ],
   "source": [
    "data.columns"
   ]
  },
  {
   "cell_type": "markdown",
   "id": "34f7fee4-ce87-4c8b-80de-69c1e7d2e59f",
   "metadata": {},
   "source": [
    "### 3. Modelowanie"
   ]
  },
  {
   "cell_type": "code",
   "execution_count": 19,
   "id": "333f4226-c161-40d9-be1a-32f4fcc75460",
   "metadata": {},
   "outputs": [],
   "source": [
    "X = data[['age', 'isced1997_r', 'mar_stat', 'hhsize', 'partnerinhh', 'ch001_',\n",
    "       'sphus', 'chronic_mod', 'eurod', 'thinc_m', 'income_pct_w8',\n",
    "       'wave']]\n",
    "y = data['co007_']"
   ]
  },
  {
   "cell_type": "code",
   "execution_count": 21,
   "id": "1e9439af-6c50-44fb-87ff-59e58a588c3f",
   "metadata": {},
   "outputs": [],
   "source": [
    "X_train, X_test, y_train, y_test = train_test_split(X, y, test_size=0.2, random_state=42)"
   ]
  },
  {
   "cell_type": "code",
   "execution_count": 23,
   "id": "b71e8830-7a0d-478d-917f-c6e26d4e0921",
   "metadata": {},
   "outputs": [
    {
     "name": "stdout",
     "output_type": "stream",
     "text": [
      "[0]\tvalidation_0-rmse:0.83031\tvalidation_1-rmse:0.84851\n",
      "[1]\tvalidation_0-rmse:0.77954\tvalidation_1-rmse:0.81050\n",
      "[2]\tvalidation_0-rmse:0.74665\tvalidation_1-rmse:0.78881\n",
      "[3]\tvalidation_0-rmse:0.72330\tvalidation_1-rmse:0.77507\n",
      "[4]\tvalidation_0-rmse:0.70783\tvalidation_1-rmse:0.76980\n",
      "[5]\tvalidation_0-rmse:0.69295\tvalidation_1-rmse:0.76431\n",
      "[6]\tvalidation_0-rmse:0.68453\tvalidation_1-rmse:0.76020\n",
      "[7]\tvalidation_0-rmse:0.67908\tvalidation_1-rmse:0.76062\n",
      "[8]\tvalidation_0-rmse:0.66760\tvalidation_1-rmse:0.75883\n",
      "[9]\tvalidation_0-rmse:0.66278\tvalidation_1-rmse:0.75879\n",
      "[10]\tvalidation_0-rmse:0.65449\tvalidation_1-rmse:0.75877\n",
      "[11]\tvalidation_0-rmse:0.65283\tvalidation_1-rmse:0.75848\n",
      "[12]\tvalidation_0-rmse:0.64518\tvalidation_1-rmse:0.75750\n",
      "[13]\tvalidation_0-rmse:0.64273\tvalidation_1-rmse:0.75684\n",
      "[14]\tvalidation_0-rmse:0.63799\tvalidation_1-rmse:0.75834\n",
      "[15]\tvalidation_0-rmse:0.63683\tvalidation_1-rmse:0.75967\n",
      "[16]\tvalidation_0-rmse:0.62799\tvalidation_1-rmse:0.75895\n",
      "[17]\tvalidation_0-rmse:0.62254\tvalidation_1-rmse:0.75895\n",
      "[18]\tvalidation_0-rmse:0.61489\tvalidation_1-rmse:0.75875\n",
      "[19]\tvalidation_0-rmse:0.60961\tvalidation_1-rmse:0.75962\n",
      "[20]\tvalidation_0-rmse:0.60274\tvalidation_1-rmse:0.75834\n",
      "[21]\tvalidation_0-rmse:0.59658\tvalidation_1-rmse:0.76057\n",
      "[22]\tvalidation_0-rmse:0.59264\tvalidation_1-rmse:0.76053\n",
      "[23]\tvalidation_0-rmse:0.59038\tvalidation_1-rmse:0.76108\n",
      "[24]\tvalidation_0-rmse:0.58993\tvalidation_1-rmse:0.76093\n",
      "[25]\tvalidation_0-rmse:0.58533\tvalidation_1-rmse:0.76088\n",
      "[26]\tvalidation_0-rmse:0.58302\tvalidation_1-rmse:0.76072\n",
      "[27]\tvalidation_0-rmse:0.57749\tvalidation_1-rmse:0.76157\n",
      "[28]\tvalidation_0-rmse:0.57277\tvalidation_1-rmse:0.76163\n",
      "[29]\tvalidation_0-rmse:0.56609\tvalidation_1-rmse:0.76060\n",
      "[30]\tvalidation_0-rmse:0.56068\tvalidation_1-rmse:0.76195\n",
      "[31]\tvalidation_0-rmse:0.55826\tvalidation_1-rmse:0.76119\n",
      "[32]\tvalidation_0-rmse:0.55213\tvalidation_1-rmse:0.76156\n",
      "[33]\tvalidation_0-rmse:0.54911\tvalidation_1-rmse:0.76196\n",
      "[34]\tvalidation_0-rmse:0.54145\tvalidation_1-rmse:0.76412\n",
      "[35]\tvalidation_0-rmse:0.53693\tvalidation_1-rmse:0.76367\n",
      "[36]\tvalidation_0-rmse:0.53517\tvalidation_1-rmse:0.76410\n",
      "[37]\tvalidation_0-rmse:0.52925\tvalidation_1-rmse:0.76527\n",
      "[38]\tvalidation_0-rmse:0.52704\tvalidation_1-rmse:0.76614\n",
      "[39]\tvalidation_0-rmse:0.52145\tvalidation_1-rmse:0.76486\n",
      "[40]\tvalidation_0-rmse:0.51717\tvalidation_1-rmse:0.76475\n",
      "[41]\tvalidation_0-rmse:0.51416\tvalidation_1-rmse:0.76288\n",
      "[42]\tvalidation_0-rmse:0.51231\tvalidation_1-rmse:0.76375\n",
      "[43]\tvalidation_0-rmse:0.50888\tvalidation_1-rmse:0.76287\n",
      "[44]\tvalidation_0-rmse:0.50703\tvalidation_1-rmse:0.76311\n",
      "[45]\tvalidation_0-rmse:0.50319\tvalidation_1-rmse:0.76300\n",
      "[46]\tvalidation_0-rmse:0.50274\tvalidation_1-rmse:0.76335\n",
      "[47]\tvalidation_0-rmse:0.49853\tvalidation_1-rmse:0.76126\n",
      "[48]\tvalidation_0-rmse:0.49503\tvalidation_1-rmse:0.75969\n",
      "[49]\tvalidation_0-rmse:0.49268\tvalidation_1-rmse:0.76044\n",
      "[50]\tvalidation_0-rmse:0.48802\tvalidation_1-rmse:0.76212\n",
      "[51]\tvalidation_0-rmse:0.48287\tvalidation_1-rmse:0.76134\n",
      "[52]\tvalidation_0-rmse:0.47691\tvalidation_1-rmse:0.76288\n",
      "[53]\tvalidation_0-rmse:0.47527\tvalidation_1-rmse:0.76265\n",
      "[54]\tvalidation_0-rmse:0.47149\tvalidation_1-rmse:0.76200\n",
      "[55]\tvalidation_0-rmse:0.46498\tvalidation_1-rmse:0.76186\n",
      "[56]\tvalidation_0-rmse:0.46264\tvalidation_1-rmse:0.76111\n",
      "[57]\tvalidation_0-rmse:0.45887\tvalidation_1-rmse:0.76314\n",
      "[58]\tvalidation_0-rmse:0.45753\tvalidation_1-rmse:0.76292\n",
      "[59]\tvalidation_0-rmse:0.45186\tvalidation_1-rmse:0.76290\n",
      "[60]\tvalidation_0-rmse:0.44617\tvalidation_1-rmse:0.76163\n",
      "[61]\tvalidation_0-rmse:0.44180\tvalidation_1-rmse:0.76399\n",
      "[62]\tvalidation_0-rmse:0.43873\tvalidation_1-rmse:0.76390\n",
      "[63]\tvalidation_0-rmse:0.43718\tvalidation_1-rmse:0.76425\n",
      "[64]\tvalidation_0-rmse:0.43372\tvalidation_1-rmse:0.76318\n",
      "[65]\tvalidation_0-rmse:0.42923\tvalidation_1-rmse:0.76278\n",
      "[66]\tvalidation_0-rmse:0.42480\tvalidation_1-rmse:0.76249\n",
      "[67]\tvalidation_0-rmse:0.42439\tvalidation_1-rmse:0.76266\n",
      "[68]\tvalidation_0-rmse:0.42160\tvalidation_1-rmse:0.76180\n",
      "[69]\tvalidation_0-rmse:0.41784\tvalidation_1-rmse:0.76198\n",
      "[70]\tvalidation_0-rmse:0.41389\tvalidation_1-rmse:0.76321\n",
      "[71]\tvalidation_0-rmse:0.41153\tvalidation_1-rmse:0.76370\n",
      "[72]\tvalidation_0-rmse:0.40969\tvalidation_1-rmse:0.76529\n",
      "[73]\tvalidation_0-rmse:0.40877\tvalidation_1-rmse:0.76555\n",
      "[74]\tvalidation_0-rmse:0.40766\tvalidation_1-rmse:0.76621\n",
      "[75]\tvalidation_0-rmse:0.40418\tvalidation_1-rmse:0.76703\n",
      "[76]\tvalidation_0-rmse:0.40069\tvalidation_1-rmse:0.76763\n",
      "[77]\tvalidation_0-rmse:0.39864\tvalidation_1-rmse:0.76831\n",
      "[78]\tvalidation_0-rmse:0.39460\tvalidation_1-rmse:0.76853\n",
      "[79]\tvalidation_0-rmse:0.39256\tvalidation_1-rmse:0.76959\n",
      "[80]\tvalidation_0-rmse:0.39141\tvalidation_1-rmse:0.77011\n",
      "[81]\tvalidation_0-rmse:0.39066\tvalidation_1-rmse:0.77042\n",
      "[82]\tvalidation_0-rmse:0.38665\tvalidation_1-rmse:0.76907\n",
      "[83]\tvalidation_0-rmse:0.38251\tvalidation_1-rmse:0.77000\n",
      "[84]\tvalidation_0-rmse:0.38134\tvalidation_1-rmse:0.77006\n",
      "[85]\tvalidation_0-rmse:0.37658\tvalidation_1-rmse:0.77075\n",
      "[86]\tvalidation_0-rmse:0.37302\tvalidation_1-rmse:0.77057\n",
      "[87]\tvalidation_0-rmse:0.37115\tvalidation_1-rmse:0.77091\n",
      "[88]\tvalidation_0-rmse:0.36987\tvalidation_1-rmse:0.77033\n",
      "[89]\tvalidation_0-rmse:0.36786\tvalidation_1-rmse:0.77109\n",
      "[90]\tvalidation_0-rmse:0.36410\tvalidation_1-rmse:0.77073\n",
      "[91]\tvalidation_0-rmse:0.36027\tvalidation_1-rmse:0.77014\n",
      "[92]\tvalidation_0-rmse:0.35840\tvalidation_1-rmse:0.77037\n",
      "[93]\tvalidation_0-rmse:0.35664\tvalidation_1-rmse:0.77073\n",
      "[94]\tvalidation_0-rmse:0.35491\tvalidation_1-rmse:0.77028\n",
      "[95]\tvalidation_0-rmse:0.35323\tvalidation_1-rmse:0.76996\n",
      "[96]\tvalidation_0-rmse:0.35009\tvalidation_1-rmse:0.76971\n",
      "[97]\tvalidation_0-rmse:0.34826\tvalidation_1-rmse:0.77010\n",
      "[98]\tvalidation_0-rmse:0.34544\tvalidation_1-rmse:0.77024\n",
      "[99]\tvalidation_0-rmse:0.34439\tvalidation_1-rmse:0.77059\n"
     ]
    }
   ],
   "source": [
    "xgb = XGBRegressor()\n",
    "xgb.fit(X_train, y_train,\n",
    "        eval_set = [(X_train, y_train), (X_test, y_test)],\n",
    "        verbose = True)\n",
    "xgb_pred = xgb.predict(X_test)"
   ]
  },
  {
   "cell_type": "code",
   "execution_count": 25,
   "id": "f54a3939-2550-49cc-b715-5dad19921a3e",
   "metadata": {},
   "outputs": [
    {
     "data": {
      "text/plain": [
       "0.5473241863400556"
      ]
     },
     "execution_count": 25,
     "metadata": {},
     "output_type": "execute_result"
    }
   ],
   "source": [
    "np.sqrt(metrics.r2_score(y_test,xgb_pred))"
   ]
  },
  {
   "cell_type": "code",
   "execution_count": null,
   "id": "1d6f276f-f343-4ba1-abbe-0070df428544",
   "metadata": {},
   "outputs": [],
   "source": []
  }
 ],
 "metadata": {
  "kernelspec": {
   "display_name": "Python 3 (ipykernel)",
   "language": "python",
   "name": "python3"
  },
  "language_info": {
   "codemirror_mode": {
    "name": "ipython",
    "version": 3
   },
   "file_extension": ".py",
   "mimetype": "text/x-python",
   "name": "python",
   "nbconvert_exporter": "python",
   "pygments_lexer": "ipython3",
   "version": "3.12.4"
  }
 },
 "nbformat": 4,
 "nbformat_minor": 5
}
